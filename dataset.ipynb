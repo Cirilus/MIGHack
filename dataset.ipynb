{
 "cells": [
  {
   "metadata": {
    "ExecuteTime": {
     "end_time": "2024-12-04T20:50:51.817255Z",
     "start_time": "2024-12-04T20:50:51.815077Z"
    }
   },
   "cell_type": "code",
   "source": [
    "import os\n",
    "import csv\n",
    "from pathlib import Path\n",
    "from loguru import logger\n",
    "import cv2\n",
    "import random\n",
    "import json"
   ],
   "id": "daa6a046b9ecd039",
   "outputs": [],
   "execution_count": 25
  },
  {
   "metadata": {
    "ExecuteTime": {
     "end_time": "2024-12-04T20:55:04.440712Z",
     "start_time": "2024-12-04T20:55:04.437289Z"
    }
   },
   "cell_type": "code",
   "source": [
    "VIDEOS_FOLDER = \"videos\"\n",
    "DATASET_FOLDER = \"dataset\"\n",
    "IMAGES_FOLDER = f\"{DATASET_FOLDER}/images\"\n",
    "METADATA_FILE = f\"{DATASET_FOLDER}/metadata.csv\""
   ],
   "id": "d81a67e1c0416126",
   "outputs": [],
   "execution_count": 30
  },
  {
   "metadata": {
    "ExecuteTime": {
     "end_time": "2024-12-04T20:41:27.997181Z",
     "start_time": "2024-12-04T20:41:27.994108Z"
    }
   },
   "cell_type": "code",
   "source": "os.makedirs(IMAGES_FOLDER, exist_ok=True)",
   "id": "700b23f7ad30b448",
   "outputs": [],
   "execution_count": 4
  },
  {
   "metadata": {
    "ExecuteTime": {
     "end_time": "2024-12-04T21:09:06.413742Z",
     "start_time": "2024-12-04T21:09:06.410974Z"
    }
   },
   "cell_type": "code",
   "source": [
    "with open(METADATA_FILE, mode=\"w\", newline=\"\") as file:\n",
    "    writer = csv.writer(file)\n",
    "    writer.writerow([\"image_id\", \"elapsed_time_seconds\"])"
   ],
   "id": "c9422a788eaa8d98",
   "outputs": [],
   "execution_count": 55
  },
  {
   "metadata": {
    "ExecuteTime": {
     "end_time": "2024-12-04T21:09:22.362603Z",
     "start_time": "2024-12-04T21:09:07.748405Z"
    }
   },
   "cell_type": "code",
   "source": [
    "for video_file in Path(VIDEOS_FOLDER).glob(\"*.mp4\"):\n",
    "    cap = cv2.VideoCapture(str(video_file))\n",
    "\n",
    "    if not cap.isOpened():\n",
    "        logger.error(f\"Failed to open {video_file}\")\n",
    "        continue\n",
    "\n",
    "    fps = cap.get(cv2.CAP_PROP_FPS)\n",
    "    frame_count = int(cap.get(cv2.CAP_PROP_FRAME_COUNT))\n",
    "    video_duration = frame_count / fps\n",
    "\n",
    "    logger.info(f\"Processing {video_file.name}\")\n",
    "\n",
    "    elapsed_time = 0\n",
    "    log_timer = 0\n",
    "\n",
    "    while elapsed_time < video_duration:\n",
    "        random_step = random.randint(1, 10)\n",
    "        elapsed_time += random_step\n",
    "        log_timer += random_step\n",
    "\n",
    "        if elapsed_time > video_duration:\n",
    "            break\n",
    "\n",
    "        frame_number = int(elapsed_time * fps)\n",
    "        cap.set(cv2.CAP_PROP_POS_FRAMES, frame_number)\n",
    "        ret, frame = cap.read()\n",
    "\n",
    "        if not ret:\n",
    "            logger.error(f\"Failed to read frame at {elapsed_time:.2f}s in {video_file.name}\")\n",
    "            break\n",
    "\n",
    "        image_id = f\"{video_file.name}_{int(elapsed_time)}.jpg\"\n",
    "        image_path = os.path.join(IMAGES_FOLDER, image_id)\n",
    "\n",
    "        cv2.imwrite(image_path, frame)\n",
    "\n",
    "        with open(METADATA_FILE, mode=\"a\", newline=\"\") as file:\n",
    "            writer = csv.writer(file)\n",
    "            writer.writerow([image_id, elapsed_time])\n",
    "\n",
    "        if log_timer >= 60:\n",
    "            logger.info(f\"Processed {elapsed_time:.2f}s of {video_file.name}\")\n",
    "            log_timer = 0\n",
    "\n",
    "    cap.release()"
   ],
   "id": "79907ccdde920c95",
   "outputs": [
    {
     "name": "stderr",
     "output_type": "stream",
     "text": [
      "\u001B[32m2024-12-05 00:09:07.791\u001B[0m | \u001B[1mINFO    \u001B[0m | \u001B[36m__main__\u001B[0m:\u001B[36m<module>\u001B[0m:\u001B[36m12\u001B[0m - \u001B[1mProcessing vid_20241204_221801.mp4\u001B[0m\n",
      "\u001B[32m2024-12-05 00:09:08.619\u001B[0m | \u001B[1mINFO    \u001B[0m | \u001B[36m__main__\u001B[0m:\u001B[36m<module>\u001B[0m:\u001B[36m43\u001B[0m - \u001B[1mProcessed 61.00s of vid_20241204_221801.mp4\u001B[0m\n",
      "\u001B[32m2024-12-05 00:09:09.424\u001B[0m | \u001B[1mINFO    \u001B[0m | \u001B[36m__main__\u001B[0m:\u001B[36m<module>\u001B[0m:\u001B[36m43\u001B[0m - \u001B[1mProcessed 125.00s of vid_20241204_221801.mp4\u001B[0m\n",
      "\u001B[32m2024-12-05 00:09:10.109\u001B[0m | \u001B[1mINFO    \u001B[0m | \u001B[36m__main__\u001B[0m:\u001B[36m<module>\u001B[0m:\u001B[36m43\u001B[0m - \u001B[1mProcessed 190.00s of vid_20241204_221801.mp4\u001B[0m\n",
      "\u001B[32m2024-12-05 00:09:10.720\u001B[0m | \u001B[1mINFO    \u001B[0m | \u001B[36m__main__\u001B[0m:\u001B[36m<module>\u001B[0m:\u001B[36m43\u001B[0m - \u001B[1mProcessed 250.00s of vid_20241204_221801.mp4\u001B[0m\n",
      "\u001B[32m2024-12-05 00:09:11.290\u001B[0m | \u001B[1mINFO    \u001B[0m | \u001B[36m__main__\u001B[0m:\u001B[36m<module>\u001B[0m:\u001B[36m12\u001B[0m - \u001B[1mProcessing vid_20241204_220438.mp4\u001B[0m\n",
      "\u001B[32m2024-12-05 00:09:12.024\u001B[0m | \u001B[1mINFO    \u001B[0m | \u001B[36m__main__\u001B[0m:\u001B[36m<module>\u001B[0m:\u001B[36m43\u001B[0m - \u001B[1mProcessed 60.00s of vid_20241204_220438.mp4\u001B[0m\n",
      "\u001B[32m2024-12-05 00:09:12.576\u001B[0m | \u001B[1mINFO    \u001B[0m | \u001B[36m__main__\u001B[0m:\u001B[36m<module>\u001B[0m:\u001B[36m43\u001B[0m - \u001B[1mProcessed 124.00s of vid_20241204_220438.mp4\u001B[0m\n",
      "\u001B[32m2024-12-05 00:09:12.910\u001B[0m | \u001B[1mINFO    \u001B[0m | \u001B[36m__main__\u001B[0m:\u001B[36m<module>\u001B[0m:\u001B[36m12\u001B[0m - \u001B[1mProcessing vid_20241204_222517.mp4\u001B[0m\n",
      "\u001B[32m2024-12-05 00:09:14.043\u001B[0m | \u001B[1mINFO    \u001B[0m | \u001B[36m__main__\u001B[0m:\u001B[36m<module>\u001B[0m:\u001B[36m43\u001B[0m - \u001B[1mProcessed 66.00s of vid_20241204_222517.mp4\u001B[0m\n",
      "\u001B[32m2024-12-05 00:09:14.964\u001B[0m | \u001B[1mINFO    \u001B[0m | \u001B[36m__main__\u001B[0m:\u001B[36m<module>\u001B[0m:\u001B[36m43\u001B[0m - \u001B[1mProcessed 128.00s of vid_20241204_222517.mp4\u001B[0m\n",
      "\u001B[32m2024-12-05 00:09:16.075\u001B[0m | \u001B[1mINFO    \u001B[0m | \u001B[36m__main__\u001B[0m:\u001B[36m<module>\u001B[0m:\u001B[36m43\u001B[0m - \u001B[1mProcessed 190.00s of vid_20241204_222517.mp4\u001B[0m\n",
      "\u001B[32m2024-12-05 00:09:16.813\u001B[0m | \u001B[1mINFO    \u001B[0m | \u001B[36m__main__\u001B[0m:\u001B[36m<module>\u001B[0m:\u001B[36m43\u001B[0m - \u001B[1mProcessed 250.00s of vid_20241204_222517.mp4\u001B[0m\n",
      "\u001B[32m2024-12-05 00:09:17.796\u001B[0m | \u001B[1mINFO    \u001B[0m | \u001B[36m__main__\u001B[0m:\u001B[36m<module>\u001B[0m:\u001B[36m43\u001B[0m - \u001B[1mProcessed 315.00s of vid_20241204_222517.mp4\u001B[0m\n",
      "\u001B[32m2024-12-05 00:09:19.203\u001B[0m | \u001B[1mINFO    \u001B[0m | \u001B[36m__main__\u001B[0m:\u001B[36m<module>\u001B[0m:\u001B[36m43\u001B[0m - \u001B[1mProcessed 377.00s of vid_20241204_222517.mp4\u001B[0m\n",
      "\u001B[32m2024-12-05 00:09:20.066\u001B[0m | \u001B[1mINFO    \u001B[0m | \u001B[36m__main__\u001B[0m:\u001B[36m<module>\u001B[0m:\u001B[36m43\u001B[0m - \u001B[1mProcessed 438.00s of vid_20241204_222517.mp4\u001B[0m\n",
      "\u001B[32m2024-12-05 00:09:20.885\u001B[0m | \u001B[1mINFO    \u001B[0m | \u001B[36m__main__\u001B[0m:\u001B[36m<module>\u001B[0m:\u001B[36m43\u001B[0m - \u001B[1mProcessed 500.00s of vid_20241204_222517.mp4\u001B[0m\n",
      "\u001B[32m2024-12-05 00:09:21.662\u001B[0m | \u001B[1mINFO    \u001B[0m | \u001B[36m__main__\u001B[0m:\u001B[36m<module>\u001B[0m:\u001B[36m43\u001B[0m - \u001B[1mProcessed 562.00s of vid_20241204_222517.mp4\u001B[0m\n"
     ]
    }
   ],
   "execution_count": 56
  },
  {
   "metadata": {
    "ExecuteTime": {
     "end_time": "2024-12-04T21:06:34.844943Z",
     "start_time": "2024-12-04T21:06:34.841954Z"
    }
   },
   "cell_type": "code",
   "source": "DATASET_ID = \"idwntl/elapsed-thermal-wheel\"",
   "id": "b78a0046d81f94a6",
   "outputs": [],
   "execution_count": 51
  },
  {
   "metadata": {
    "ExecuteTime": {
     "end_time": "2024-12-04T21:06:37.152008Z",
     "start_time": "2024-12-04T21:06:37.148981Z"
    }
   },
   "cell_type": "code",
   "source": [
    "dataset_meta = dict(\n",
    "    id=DATASET_ID,\n",
    "    title=\"Elapsed Thermal Wheel\",\n",
    "    licenses=[{\"name\": \"CC0-1.0\"}],\n",
    ")\n",
    "\n",
    "with open(os.path.join(DATASET_FOLDER, \"dataset-metadata.json\"), 'w') as f:\n",
    "    json.dump(dataset_meta, f)"
   ],
   "id": "8833e3c46d11d579",
   "outputs": [],
   "execution_count": 53
  },
  {
   "metadata": {
    "ExecuteTime": {
     "end_time": "2024-12-04T21:09:38.569177Z",
     "start_time": "2024-12-04T21:09:31.466266Z"
    }
   },
   "cell_type": "code",
   "source": "!kaggle datasets create -p dataset/ -u -r zip",
   "id": "faa3dc887624adb",
   "outputs": [
    {
     "name": "stdout",
     "output_type": "stream",
     "text": [
      "Starting upload for file images.zip\r\n",
      "100%|██████████████████████████████████████| 19.6M/19.6M [00:02<00:00, 6.94MB/s]\r\n",
      "Upload successful: images.zip (20MB)\r\n",
      "Starting upload for file metadata.csv\r\n",
      "100%|██████████████████████████████████████| 6.46k/6.46k [00:00<00:00, 16.2kB/s]\r\n",
      "Upload successful: metadata.csv (6KB)\r\n",
      "Your public Dataset is being created. Please check progress at https://www.kaggle.com/datasets/idwntl/elapsed-thermal-wheel\r\n"
     ]
    }
   ],
   "execution_count": 57
  }
 ],
 "metadata": {
  "kernelspec": {
   "display_name": "Python 3",
   "language": "python",
   "name": "python3"
  },
  "language_info": {
   "codemirror_mode": {
    "name": "ipython",
    "version": 2
   },
   "file_extension": ".py",
   "mimetype": "text/x-python",
   "name": "python",
   "nbconvert_exporter": "python",
   "pygments_lexer": "ipython2",
   "version": "2.7.6"
  }
 },
 "nbformat": 4,
 "nbformat_minor": 5
}
